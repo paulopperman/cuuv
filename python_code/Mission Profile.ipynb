{
 "cells": [
  {
   "cell_type": "code",
   "execution_count": 5,
   "metadata": {},
   "outputs": [],
   "source": [
    "import numpy as np\n",
    "import matplotlib.pyplot as plt\n",
    "import math\n",
    "import pandas as pd\n",
    "\n",
    "# load custom libraries\n",
    "from generate_mission_profile import pnt2line, vector, path_segment\n",
    "\n",
    "# set output folder\n",
    "environment_folder = '../environments/5km_world/'"
   ]
  },
  {
   "cell_type": "markdown",
   "metadata": {},
   "source": [
    "# Developing the Mission Profile\n",
    "We want a vector field for the uuv to travel in straight lines between waypoints.\n",
    "\n",
    "The entire path will be generated at once.\n",
    "\n",
    "A seperate vector field will be calculated for each waypoint.\n",
    "\n",
    "## Geometry Setup\n",
    "Global origin is in the bottom left corner (no negative coordinates)."
   ]
  },
  {
   "cell_type": "code",
   "execution_count": 2,
   "metadata": {},
   "outputs": [],
   "source": [
    "# define the world grid\n",
    "real_world_size = 5000  # world size in meters\n",
    "real_world_resolution = 5  # spatial resolution in meters\n",
    "\n",
    "x_spacing = real_world_resolution\n",
    "y_spacing = real_world_resolution\n",
    "max_x = (real_world_size/real_world_resolution) - 1\n",
    "max_y = (real_world_size/real_world_resolution) - 1\n",
    "\n",
    "world_x = np.linspace(0,max_x,int(max_x)+1)\n",
    "world_y = np.linspace(0,max_y,int(max_y)+1)\n",
    "world_X, world_Y = np.meshgrid(world_x, world_y)\n",
    "\n",
    "world_z=[0]\n"
   ]
  },
  {
   "cell_type": "code",
   "execution_count": 3,
   "metadata": {},
   "outputs": [],
   "source": [
    "# place minefield\n",
    "mine_min_x = 1000\n",
    "mine_max_x = 4000\n",
    "mine_min_y = 1000\n",
    "mine_max_y = 4000\n",
    "\n",
    "# use a basic grid\n",
    "mine_cols = 10\n",
    "mine_rows = 10\n",
    "mine_x_arr = np.linspace(mine_min_x, mine_max_x, mine_cols)\n",
    "mine_y_arr = np.linspace(mine_min_y, mine_max_y, mine_rows)\n",
    "mine_X, mine_Y = np.meshgrid(mine_x_arr, mine_y_arr)\n",
    "\n",
    "minefield_df = pd.concat([pd.DataFrame(np.reshape(mine_X,(mine_X.size,1))), pd.DataFrame(np.reshape(mine_Y,(mine_Y.size,1)))], axis=1)\n"
   ]
  },
  {
   "cell_type": "code",
   "execution_count": 4,
   "metadata": {},
   "outputs": [],
   "source": [
    "# Define the waypoints of the mission in real world units (meters)\n",
    "# TODO: generate this programatically\n",
    "waypoints = [\n",
    "    (2500,0,0),\n",
    "    (1000,1000,0),\n",
    "    (1000,4000,0),\n",
    "    (1500,4000,0),\n",
    "    (1500,1000,0),\n",
    "    (2000,1000,0),\n",
    "    (2000,4000,0),\n",
    "    (2500,4000,0),\n",
    "    (2500,1000,0),\n",
    "    (3000,1000,0),\n",
    "    (3000,4000,0),\n",
    "    (3500,4000,0),\n",
    "    (3500,1000,0),\n",
    "    (4000,1000,0),\n",
    "    (4000,4000,0),\n",
    "    (2500,0,0),    \n",
    "]\n",
    "\n",
    "# normalize waypoints to NetLogo coordinates\n",
    "waypoints_df = pd.DataFrame(waypoints).apply(lambda x: x/real_world_resolution)"
   ]
  },
  {
   "cell_type": "markdown",
   "metadata": {},
   "source": [
    "Calculate the vector points based on the closest line point"
   ]
  },
  {
   "cell_type": "code",
   "execution_count": 5,
   "metadata": {},
   "outputs": [
    {
     "data": {
      "image/png": "[encoded data removed]",
      "text/plain": [
       "<Figure size 432x288 with 15 Axes>"
      ]
     },
     "metadata": {},
     "output_type": "display_data"
    }
   ],
   "source": [
    "mission_leg = 0  # initialize mission leg counter\n",
    "mission_array = []\n",
    "\n",
    "# setup the plot\n",
    "fig, axs = plt.subplots(len(waypoints)-1, 1)\n",
    "\n",
    "# loop through each leg\n",
    "while mission_leg < len(waypoints)-1:\n",
    "    # define course correction field\n",
    "    start_point = [ x/real_world_resolution for x in waypoints[mission_leg] ]  # normalize to NetLogo coordinates\n",
    "    end_point = [ y/real_world_resolution for y in waypoints[mission_leg+1] ]  # normalize to NetLogo coordinates\n",
    "    x_vec_array, y_vec_array = path_segment(start_point, end_point, world_x, world_y)\n",
    "    \n",
    "    # generate mission vector towards goal\n",
    "    mission_vector = (np.array(end_point) - np.array(start_point))\n",
    "    segment_length = np.sqrt(mission_vector[0]**2 + mission_vector[1]**2 + mission_vector[2]**2)\n",
    "    \n",
    "    mission_x = mission_vector[0]/segment_length\n",
    "    mission_y = mission_vector[1]/segment_length\n",
    "    mission_z = mission_vector[2]/segment_length\n",
    "  \n",
    "    mission_dx = mission_x * np.ones(world_X.shape)\n",
    "    mission_dy = mission_y * np.ones(world_Y.shape)\n",
    "    mission_dz = mission_z * np.ones(world_X.shape)\n",
    "\n",
    "    # generate behavior vector field\n",
    "    behavior_dx = mission_dx + x_vec_array\n",
    "    behavior_dy = mission_dy + y_vec_array\n",
    "    behavior_dz = np.zeros(behavior_dx.shape)  # no movement in z dimension\n",
    "\n",
    "    # create pandas dataframe out of the reshaped arrays to feed into NetLogo\n",
    "    patch_data = pd.concat([pd.DataFrame(np.reshape(world_X,(world_X.size,1))), \n",
    "                            pd.DataFrame(np.reshape(world_Y,(world_Y.size,1))),\n",
    "                            pd.DataFrame(np.reshape(behavior_dx,(behavior_dx.size,1))), \n",
    "                            pd.DataFrame(np.reshape(behavior_dy,(behavior_dy.size,1)))], \n",
    "                           axis=1)\n",
    "    # mission_array.append(patch_data)\n",
    "    patch_data.to_csv(environment_folder + 'mission_leg_' + str(mission_leg) + '.txt', index=False, header=False, sep=' ')\n",
    "    \n",
    "    # plot the leg to the ouput figure\n",
    "    # axs[mission_leg].quiver(world_X, world_Y, behavior_dx, behavior_dy)\n",
    "    axs[mission_leg].scatter([start_point[0], end_point[0]],[start_point[1],end_point[1]])\n",
    "    axs[mission_leg].plot([start_point[0], end_point[0]],[start_point[1],end_point[1]])\n",
    "    \n",
    "    mission_leg += 1\n",
    "    \n",
    "# plt.show()"
   ]
  },
  {
   "cell_type": "code",
   "execution_count": 6,
   "metadata": {},
   "outputs": [],
   "source": [
    "waypoints_df.to_csv(environment_folder + 'mission_waypoints.txt', index=True, header=False, sep=' ')"
   ]
  },
  {
   "cell_type": "code",
   "execution_count": 6,
   "metadata": {},
   "outputs": [],
   "source": [
    "minefield_df.to_csv(environment_folder + 'minefield.txt', index=False, header=False, sep=' ')"
   ]
  },
  {
   "cell_type": "code",
   "execution_count": null,
   "metadata": {},
   "outputs": [],
   "source": []
  }
 ],
 "metadata": {
  "kernelspec": {
   "display_name": "Python 3",
   "language": "python",
   "name": "python3"
  },
  "language_info": {
   "codemirror_mode": {
    "name": "ipython",
    "version": 3
   },
   "file_extension": ".py",
   "mimetype": "text/x-python",
   "name": "python",
   "nbconvert_exporter": "python",
   "pygments_lexer": "ipython3",
   "version": "3.6.6"
  }
 },
 "nbformat": 4,
 "nbformat_minor": 2
}
