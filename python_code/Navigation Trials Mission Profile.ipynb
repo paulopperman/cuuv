{
 "cells": [
  {
   "cell_type": "code",
   "execution_count": 1,
   "metadata": {},
   "outputs": [],
   "source": [
    "import numpy as np\n",
    "import matplotlib.pyplot as plt\n",
    "import math\n",
    "import pandas as pd\n",
    "\n",
    "# load custom libraries\n",
    "from generate_mission_profile import pnt2line, vector, path_segment\n",
    "\n",
    "# set output folder\n",
    "environment_folder = '../environments/general_trial/'"
   ]
  },
  {
   "cell_type": "markdown",
   "metadata": {},
   "source": [
    "# Developing the Mission Profile\n",
    "We want a vector field for the uuv to travel in straight lines between waypoints.\n",
    "\n",
    "The entire path will be generated at once.\n",
    "\n",
    "A seperate vector field will be calculated for each waypoint.\n",
    "\n",
    "## Geometry Setup\n",
    "Global origin is in the bottom left corner (no negative coordinates)."
   ]
  },
  {
   "cell_type": "code",
   "execution_count": 3,
   "metadata": {},
   "outputs": [],
   "source": [
    "# define the world grid\n",
    "real_world_size = 5000  # world size in meters\n",
    "real_world_resolution = 5  # spatial resolution in meters\n",
    "\n",
    "x_spacing = real_world_resolution\n",
    "y_spacing = real_world_resolution\n",
    "max_x = ((real_world_size/2)/real_world_resolution) - 1\n",
    "max_y = (real_world_size/real_world_resolution) - 1\n",
    "\n",
    "world_x = np.linspace(0,max_x,int(max_x)+1)\n",
    "world_y = np.linspace(0,max_y,int(max_y)+1)\n",
    "world_X, world_Y = np.meshgrid(world_x, world_y)\n",
    "\n",
    "world_z=[0]\n",
    "\n",
    "world_dims = \"0 %i 0 %i\" % (max_x, max_y)"
   ]
  },
  {
   "cell_type": "code",
   "execution_count": 4,
   "metadata": {},
   "outputs": [],
   "source": [
    "# use a basic grid\n",
    "mine_cols = 10\n",
    "mine_rows = 100\n",
    "#mine_x_arr = np.linspace(mine_min_x, mine_max_x, mine_cols)\n",
    "mine_x_arr = [1000, 1500]\n",
    "mine_y_arr = np.linspace(100, max_y - 100, mine_rows) * real_world_resolution\n",
    "mine_X, mine_Y = np.meshgrid(mine_x_arr, mine_y_arr)\n",
    "\n",
    "minefield_df = pd.concat([pd.DataFrame(np.reshape(mine_X,(mine_X.size,1))), pd.DataFrame(np.reshape(mine_Y,(mine_Y.size,1)))], axis=1)\n",
    "minefield_df = minefield_df.apply(lambda x: x/real_world_resolution)"
   ]
  },
  {
   "cell_type": "code",
   "execution_count": 32,
   "metadata": {},
   "outputs": [],
   "source": [
    "# Define the waypoints of the mission in real world units (meters)\n",
    "# TODO: generate this programatically\n",
    "waypoints = [\n",
    "    (1250,0,0),\n",
    "    (1250,4995,0),\n",
    "    (1250,0,0),\n",
    "]\n",
    "\n",
    "# normalize waypoints to NetLogo coordinates\n",
    "waypoints_df = pd.DataFrame(waypoints).apply(lambda x: x/real_world_resolution)"
   ]
  },
  {
   "cell_type": "code",
   "execution_count": 33,
   "metadata": {},
   "outputs": [],
   "source": [
    "# define obstacles\n",
    "num_obstacles = 10\n",
    "obs_matrix = np.random.random((num_obstacles,2))\n",
    "obstacle_df = pd.DataFrame(obs_matrix * np.array((200,real_world_size)) + np.array((1150,0))).apply(lambda x: x/real_world_resolution)"
   ]
  },
  {
   "cell_type": "markdown",
   "metadata": {},
   "source": [
    "Calculate the vector points based on the closest line point"
   ]
  },
  {
   "cell_type": "code",
   "execution_count": 34,
   "metadata": {},
   "outputs": [
    {
     "data": {
      "image/png": "[encoded data removed]",
      "text/plain": [
       "<Figure size 432x288 with 2 Axes>"
      ]
     },
     "metadata": {},
     "output_type": "display_data"
    }
   ],
   "source": [
    "mission_leg = 0  # initialize mission leg counter\n",
    "mission_array = []\n",
    "\n",
    "# setup the plot\n",
    "fig, axs = plt.subplots(len(waypoints)-1, 1)\n",
    "\n",
    "# loop through each leg\n",
    "while mission_leg < len(waypoints)-1:\n",
    "    # define course correction field\n",
    "    start_point = [ x/real_world_resolution for x in waypoints[mission_leg] ]  # normalize to NetLogo coordinates\n",
    "    end_point = [ y/real_world_resolution for y in waypoints[mission_leg+1] ]  # normalize to NetLogo coordinates\n",
    "    x_vec_array, y_vec_array = path_segment(start_point, end_point, world_x, world_y)\n",
    "    \n",
    "    # generate mission vector towards goal\n",
    "    mission_vector = (np.array(end_point) - np.array(start_point))\n",
    "    segment_length = np.sqrt(mission_vector[0]**2 + mission_vector[1]**2 + mission_vector[2]**2)\n",
    "    \n",
    "    mission_x = mission_vector[0]/segment_length\n",
    "    mission_y = mission_vector[1]/segment_length\n",
    "    mission_z = mission_vector[2]/segment_length\n",
    "  \n",
    "    mission_dx = mission_x * np.ones(world_X.shape)\n",
    "    mission_dy = mission_y * np.ones(world_Y.shape)\n",
    "    mission_dz = mission_z * np.ones(world_X.shape)\n",
    "\n",
    "    # generate behavior vector field\n",
    "    behavior_dx = mission_dx + x_vec_array\n",
    "    behavior_dy = mission_dy + y_vec_array\n",
    "    behavior_dz = np.zeros(behavior_dx.shape)  # no movement in z dimension\n",
    "\n",
    "    # create pandas dataframe out of the reshaped arrays to feed into NetLogo\n",
    "    patch_data = pd.concat([pd.DataFrame(np.reshape(world_X,(world_X.size,1))), \n",
    "                            pd.DataFrame(np.reshape(world_Y,(world_Y.size,1))),\n",
    "                            pd.DataFrame(np.reshape(behavior_dx,(behavior_dx.size,1))), \n",
    "                            pd.DataFrame(np.reshape(behavior_dy,(behavior_dy.size,1)))], \n",
    "                           axis=1)\n",
    "    # mission_array.append(patch_data)\n",
    "    patch_data.to_csv(environment_folder + 'mission_leg_' + str(mission_leg) + '.txt', index=False, header=False, sep=' ')\n",
    "    \n",
    "    # plot the leg to the ouput figure\n",
    "    axs[mission_leg].quiver(world_X, world_Y, behavior_dx, behavior_dy)\n",
    "    axs[mission_leg].scatter([start_point[0], end_point[0]],[start_point[1],end_point[1]])\n",
    "    axs[mission_leg].plot([start_point[0], end_point[0]],[start_point[1],end_point[1]])\n",
    "    \n",
    "    mission_leg += 1\n",
    "    \n",
    "# plt.show()"
   ]
  },
  {
   "cell_type": "code",
   "execution_count": 35,
   "metadata": {},
   "outputs": [],
   "source": [
    "# write environment setup files\n",
    "\n",
    "with open(environment_folder + \"world_dims.txt\", \"w\") as dims_file:\n",
    "    print(world_dims, file=dims_file)\n",
    "\n",
    "waypoints_df.to_csv(environment_folder + 'mission_waypoints.txt', index=True, header=False, sep=' ')\n",
    "\n",
    "minefield_df.to_csv(environment_folder + 'minefield.txt', index=False, header=False, sep=' ')\n",
    "\n",
    "obstacle_df.to_csv(environment_folder + 'obstacles.txt', index=False, header=False, sep=' ')"
   ]
  },
  {
   "cell_type": "code",
   "execution_count": 31,
   "metadata": {},
   "outputs": [
    {
     "data": {
      "text/html": [
       "<div>\n",
       "<style scoped>\n",
       "    .dataframe tbody tr th:only-of-type {\n",
       "        vertical-align: middle;\n",
       "    }\n",
       "\n",
       "    .dataframe tbody tr th {\n",
       "        vertical-align: top;\n",
       "    }\n",
       "\n",
       "    .dataframe thead th {\n",
       "        text-align: right;\n",
       "    }\n",
       "</style>\n",
       "<table border=\"1\" class=\"dataframe\">\n",
       "  <thead>\n",
       "    <tr style=\"text-align: right;\">\n",
       "      <th></th>\n",
       "      <th>0</th>\n",
       "      <th>0</th>\n",
       "      <th>0</th>\n",
       "      <th>0</th>\n",
       "    </tr>\n",
       "  </thead>\n",
       "  <tbody>\n",
       "    <tr>\n",
       "      <th>0</th>\n",
       "      <td>0.0</td>\n",
       "      <td>0.0</td>\n",
       "      <td>250.0</td>\n",
       "      <td>-1.0</td>\n",
       "    </tr>\n",
       "    <tr>\n",
       "      <th>1</th>\n",
       "      <td>1.0</td>\n",
       "      <td>0.0</td>\n",
       "      <td>249.0</td>\n",
       "      <td>-1.0</td>\n",
       "    </tr>\n",
       "    <tr>\n",
       "      <th>2</th>\n",
       "      <td>2.0</td>\n",
       "      <td>0.0</td>\n",
       "      <td>248.0</td>\n",
       "      <td>-1.0</td>\n",
       "    </tr>\n",
       "    <tr>\n",
       "      <th>3</th>\n",
       "      <td>3.0</td>\n",
       "      <td>0.0</td>\n",
       "      <td>247.0</td>\n",
       "      <td>-1.0</td>\n",
       "    </tr>\n",
       "    <tr>\n",
       "      <th>4</th>\n",
       "      <td>4.0</td>\n",
       "      <td>0.0</td>\n",
       "      <td>246.0</td>\n",
       "      <td>-1.0</td>\n",
       "    </tr>\n",
       "  </tbody>\n",
       "</table>\n",
       "</div>"
      ],
      "text/plain": [
       "     0    0      0    0\n",
       "0  0.0  0.0  250.0 -1.0\n",
       "1  1.0  0.0  249.0 -1.0\n",
       "2  2.0  0.0  248.0 -1.0\n",
       "3  3.0  0.0  247.0 -1.0\n",
       "4  4.0  0.0  246.0 -1.0"
      ]
     },
     "execution_count": 31,
     "metadata": {},
     "output_type": "execute_result"
    }
   ],
   "source": [
    "patch_data.head()"
   ]
  },
  {
   "cell_type": "code",
   "execution_count": 32,
   "metadata": {},
   "outputs": [
    {
     "data": {
      "text/plain": [
       "500"
      ]
     },
     "execution_count": 32,
     "metadata": {},
     "output_type": "execute_result"
    }
   ],
   "source": [
    "len(world_x)"
   ]
  },
  {
   "cell_type": "code",
   "execution_count": 15,
   "metadata": {},
   "outputs": [
    {
     "data": {
      "text/plain": [
       "array([[ 66.65855689,   4.42940496],\n",
       "       [  5.7941373 ,   3.92744429],\n",
       "       [ 37.85274429,   3.95019825],\n",
       "       [ 50.01641302,   2.49207716],\n",
       "       [ 68.60788469,   4.04142223]])"
      ]
     },
     "execution_count": 15,
     "metadata": {},
     "output_type": "execute_result"
    }
   ],
   "source": [
    "np.random.random((5,2)) * np.array((100, 5))"
   ]
  },
  {
   "cell_type": "code",
   "execution_count": 18,
   "metadata": {},
   "outputs": [
    {
     "data": {
      "text/plain": [
       "array([[ 0.09673286,  5.86922292],\n",
       "       [ 0.06823751,  5.85941137],\n",
       "       [ 0.6002404 ,  5.02662883],\n",
       "       [ 0.76176984,  5.31106916],\n",
       "       [ 0.69975121,  5.03466148]])"
      ]
     },
     "execution_count": 18,
     "metadata": {},
     "output_type": "execute_result"
    }
   ],
   "source": [
    "np.array((0,5)) + np.random.random((5,2))"
   ]
  },
  {
   "cell_type": "code",
   "execution_count": 5,
   "metadata": {},
   "outputs": [],
   "source": [
    "minefield_df.to_csv(environment_folder + 'minefield_1.txt', index=False, header=False, sep=' ')"
   ]
  },
  {
   "cell_type": "code",
   "execution_count": null,
   "metadata": {},
   "outputs": [],
   "source": []
  }
 ],
 "metadata": {
  "kernelspec": {
   "display_name": "Python 3",
   "language": "python",
   "name": "python3"
  },
  "language_info": {
   "codemirror_mode": {
    "name": "ipython",
    "version": 3
   },
   "file_extension": ".py",
   "mimetype": "text/x-python",
   "name": "python",
   "nbconvert_exporter": "python",
   "pygments_lexer": "ipython3",
   "version": "3.6.6"
  }
 },
 "nbformat": 4,
 "nbformat_minor": 2
}
