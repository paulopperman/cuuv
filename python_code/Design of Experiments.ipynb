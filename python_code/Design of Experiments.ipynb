{
 "cells": [
  {
   "cell_type": "markdown",
   "metadata": {},
   "source": [
    "# Threat UUV Experiment Design\n",
    "This notebook contains the code for the experiment design for the threat UUV simulation.\n",
    "\n",
    "### References\n",
    "Latin Hypercube Samples R package - [lhs](https://cran.r-project.org/web/packages/lhs/lhs.pdf)"
   ]
  },
  {
   "cell_type": "code",
   "execution_count": 1,
   "metadata": {},
   "outputs": [],
   "source": [
    "library(lhs)"
   ]
  },
  {
   "cell_type": "markdown",
   "metadata": {},
   "source": [
    "## Model Parameters\n",
    "These are parameters in the agent based model.\n",
    "### World Parameters\n",
    "* *real_patch_size* - The real-world size equivalent of a single patch (meters)\n",
    "* *obstacle placement* - The arrangement of obstacles in the world.\n",
    "* *minefield layout* - The layout of the mines\n",
    "* *mission plan* - The intended track for the UUV \n",
    "\n",
    "### Threat UUV Parameters\n",
    "* `max-turn-angle` - The maximum heading change the UUV agent can make at each time step.\n",
    "* `threat-uuv-speed` - The maximum raw simulation distance forward the UUV agent can move at each time step.\n",
    "* `side_angle` - The total angle width of the side looking sonar arc, centered on the midpoint port and starboard.\n",
    "* `forward_angle` - The total angle width of the forward looking sonar arc.\n",
    "* *nav-bearing-error* - The maximum amplitude of error in the UUVs bearing measurement.\n",
    "* *nav-velocity-error* - The maximum amplitude of error in the UUV's velocity measurement."
   ]
  },
  {
   "cell_type": "markdown",
   "metadata": {},
   "source": [
    "# Parameter Value Calculations\n",
    "### max-turn-angle\n",
    "The required heading change to achieve a specific turning radius is dependent on the speed.  The range of turning radii is 3 to 20 meters from the UUV system analysis."
   ]
  },
  {
   "cell_type": "code",
   "execution_count": 9,
   "metadata": {},
   "outputs": [
    {
     "data": {
      "text/html": [
       "0.171543591319167"
      ],
      "text/latex": [
       "0.171543591319167"
      ],
      "text/markdown": [
       "0.171543591319167"
      ],
      "text/plain": [
       "[1] 0.1715436"
      ]
     },
     "metadata": {},
     "output_type": "display_data"
    },
    {
     "data": {
      "text/html": [
       "9.82872378510528"
      ],
      "text/latex": [
       "9.82872378510528"
      ],
      "text/markdown": [
       "9.82872378510528"
      ],
      "text/plain": [
       "[1] 9.828724"
      ]
     },
     "metadata": {},
     "output_type": "display_data"
    }
   ],
   "source": [
    "# compute the heading_change value given step_size and turn_radius\n",
    "step_size <- .514  # meters\n",
    "turn_radius <- 3  # meters\n",
    "heading_change <- 2*asin(step_size/(2*turn_radius))\n",
    "heading_change  # radians\n",
    "heading_change * 180 / pi  # degrees"
   ]
  },
  {
   "cell_type": "markdown",
   "metadata": {},
   "source": [
    "### nav-bearing-error and nav-velocity-error\n",
    "The navigation error is considered a continuously growing circle of position fix uncertainty.  In the simulation, this is implemented as two gaussian random noise quanities - heading error and speed error.   `nav-heading-error` is added to the ordered heading of the threat UUV, and `nav-speed-error` is added to the ordered speed at each time step.  These two noise values relate to the fix expansion rates."
   ]
  },
  {
   "cell_type": "code",
   "execution_count": 26,
   "metadata": {},
   "outputs": [
    {
     "data": {
      "text/html": [
       "0.0715852859921"
      ],
      "text/latex": [
       "0.0715852859921"
      ],
      "text/markdown": [
       "0.0715852859921"
      ],
      "text/plain": [
       "[1] 0.07158529"
      ]
     },
     "metadata": {},
     "output_type": "display_data"
    }
   ],
   "source": [
    "nav_bearing_error = 0.05  # degrees\n",
    "nav_velocity_error = 0.05 # meters/tick\n",
    "ordered_velocity = 1  # meters/tick\n",
    "sq_error <- ordered_velocity^2 + (ordered_velocity + nav_velocity_error)^2 - (2*ordered_velocity*(ordered_velocity+nav_velocity_error)*cos(nav_bearing_error))\n",
    "sqrt(sq_error)  # meters/tick"
   ]
  },
  {
   "cell_type": "code",
   "execution_count": 20,
   "metadata": {},
   "outputs": [
    {
     "data": {
      "text/html": [
       "<table>\n",
       "<tbody>\n",
       "\t<tr><td>0.9267961 </td><td>0.87608543</td><td>0.90237448</td></tr>\n",
       "\t<tr><td>0.8993438 </td><td>0.44009106</td><td>0.41039640</td></tr>\n",
       "\t<tr><td>0.7944685 </td><td>0.68630251</td><td>0.84272629</td></tr>\n",
       "\t<tr><td>0.0997585 </td><td>0.36063057</td><td>0.69822359</td></tr>\n",
       "\t<tr><td>0.2982047 </td><td>0.99491835</td><td>0.26713662</td></tr>\n",
       "\t<tr><td>0.6446856 </td><td>0.76784463</td><td>0.15618821</td></tr>\n",
       "\t<tr><td>0.1944047 </td><td>0.19866765</td><td>0.02168223</td></tr>\n",
       "\t<tr><td>0.4444841 </td><td>0.01445694</td><td>0.33637854</td></tr>\n",
       "\t<tr><td>0.3665169 </td><td>0.24277577</td><td>0.71475553</td></tr>\n",
       "\t<tr><td>0.5360295 </td><td>0.59685699</td><td>0.55380404</td></tr>\n",
       "</tbody>\n",
       "</table>\n"
      ],
      "text/latex": [
       "\\begin{tabular}{lll}\n",
       "\t 0.9267961  & 0.87608543 & 0.90237448\\\\\n",
       "\t 0.8993438  & 0.44009106 & 0.41039640\\\\\n",
       "\t 0.7944685  & 0.68630251 & 0.84272629\\\\\n",
       "\t 0.0997585  & 0.36063057 & 0.69822359\\\\\n",
       "\t 0.2982047  & 0.99491835 & 0.26713662\\\\\n",
       "\t 0.6446856  & 0.76784463 & 0.15618821\\\\\n",
       "\t 0.1944047  & 0.19866765 & 0.02168223\\\\\n",
       "\t 0.4444841  & 0.01445694 & 0.33637854\\\\\n",
       "\t 0.3665169  & 0.24277577 & 0.71475553\\\\\n",
       "\t 0.5360295  & 0.59685699 & 0.55380404\\\\\n",
       "\\end{tabular}\n"
      ],
      "text/markdown": [
       "\n",
       "| 0.9267961  | 0.87608543 | 0.90237448 | \n",
       "| 0.8993438  | 0.44009106 | 0.41039640 | \n",
       "| 0.7944685  | 0.68630251 | 0.84272629 | \n",
       "| 0.0997585  | 0.36063057 | 0.69822359 | \n",
       "| 0.2982047  | 0.99491835 | 0.26713662 | \n",
       "| 0.6446856  | 0.76784463 | 0.15618821 | \n",
       "| 0.1944047  | 0.19866765 | 0.02168223 | \n",
       "| 0.4444841  | 0.01445694 | 0.33637854 | \n",
       "| 0.3665169  | 0.24277577 | 0.71475553 | \n",
       "| 0.5360295  | 0.59685699 | 0.55380404 | \n",
       "\n",
       "\n"
      ],
      "text/plain": [
       "      [,1]      [,2]       [,3]      \n",
       " [1,] 0.9267961 0.87608543 0.90237448\n",
       " [2,] 0.8993438 0.44009106 0.41039640\n",
       " [3,] 0.7944685 0.68630251 0.84272629\n",
       " [4,] 0.0997585 0.36063057 0.69822359\n",
       " [5,] 0.2982047 0.99491835 0.26713662\n",
       " [6,] 0.6446856 0.76784463 0.15618821\n",
       " [7,] 0.1944047 0.19866765 0.02168223\n",
       " [8,] 0.4444841 0.01445694 0.33637854\n",
       " [9,] 0.3665169 0.24277577 0.71475553\n",
       "[10,] 0.5360295 0.59685699 0.55380404"
      ]
     },
     "metadata": {},
     "output_type": "display_data"
    }
   ],
   "source": [
    "improvedLHS(10,3)"
   ]
  },
  {
   "cell_type": "code",
   "execution_count": 19,
   "metadata": {},
   "outputs": [
    {
     "ename": "ERROR",
     "evalue": "Error in plot(a[3, 5]): object 'a' not found\n",
     "output_type": "error",
     "traceback": [
      "Error in plot(a[3, 5]): object 'a' not found\nTraceback:\n",
      "1. plot(a[3, 5])"
     ]
    }
   ],
   "source": []
  },
  {
   "cell_type": "code",
   "execution_count": null,
   "metadata": {},
   "outputs": [],
   "source": []
  }
 ],
 "metadata": {
  "kernelspec": {
   "display_name": "R",
   "language": "R",
   "name": "ir"
  },
  "language_info": {
   "codemirror_mode": "r",
   "file_extension": ".r",
   "mimetype": "text/x-r-source",
   "name": "R",
   "pygments_lexer": "r",
   "version": "3.5.1"
  }
 },
 "nbformat": 4,
 "nbformat_minor": 2
}
