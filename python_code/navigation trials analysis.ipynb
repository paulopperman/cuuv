{
 "cells": [
  {
   "cell_type": "code",
   "execution_count": 1,
   "metadata": {},
   "outputs": [],
   "source": [
    "import pandas as pd\n",
    "import matplotlib.pyplot as plt"
   ]
  },
  {
   "cell_type": "code",
   "execution_count": 2,
   "metadata": {},
   "outputs": [
    {
     "name": "stderr",
     "output_type": "stream",
     "text": [
      "C:\\Miniconda3\\lib\\site-packages\\numpy\\lib\\arraysetops.py:463: FutureWarning: elementwise comparison failed; returning scalar instead, but in the future will perform elementwise comparison\n",
      "  mask |= (ar1 == a)\n"
     ]
    }
   ],
   "source": [
    "sim_output_file = \"./sim_outputs/navigation-error-trials navigation error trial-table.csv\"\n",
    "sim_output_data = pd.read_csv(sim_output_file, skiprows=6, index_col=[0, 25])"
   ]
  },
  {
   "cell_type": "code",
   "execution_count": 3,
   "metadata": {},
   "outputs": [],
   "source": [
    "experiment_factors = sim_output_data[['nav-velocity-std-cm', 'nav-bearing-std', 'uuv-speed', 'navigation-error']]"
   ]
  },
  {
   "cell_type": "code",
   "execution_count": 4,
   "metadata": {},
   "outputs": [
    {
     "data": {
      "text/html": [
       "<div>\n",
       "<style scoped>\n",
       "    .dataframe tbody tr th:only-of-type {\n",
       "        vertical-align: middle;\n",
       "    }\n",
       "\n",
       "    .dataframe tbody tr th {\n",
       "        vertical-align: top;\n",
       "    }\n",
       "\n",
       "    .dataframe thead th {\n",
       "        text-align: right;\n",
       "    }\n",
       "</style>\n",
       "<table border=\"1\" class=\"dataframe\">\n",
       "  <thead>\n",
       "    <tr style=\"text-align: right;\">\n",
       "      <th></th>\n",
       "      <th></th>\n",
       "      <th>nav-velocity-std-cm</th>\n",
       "      <th>nav-bearing-std</th>\n",
       "      <th>uuv-speed</th>\n",
       "      <th>navigation-error</th>\n",
       "    </tr>\n",
       "    <tr>\n",
       "      <th>[run number]</th>\n",
       "      <th>[step]</th>\n",
       "      <th></th>\n",
       "      <th></th>\n",
       "      <th></th>\n",
       "      <th></th>\n",
       "    </tr>\n",
       "  </thead>\n",
       "  <tbody>\n",
       "    <tr>\n",
       "      <th rowspan=\"10\" valign=\"top\">4</th>\n",
       "      <th>0</th>\n",
       "      <td>0.2</td>\n",
       "      <td>0.05</td>\n",
       "      <td>2</td>\n",
       "      <td>0.000000</td>\n",
       "    </tr>\n",
       "    <tr>\n",
       "      <th>1</th>\n",
       "      <td>0.2</td>\n",
       "      <td>0.05</td>\n",
       "      <td>2</td>\n",
       "      <td>0.015695</td>\n",
       "    </tr>\n",
       "    <tr>\n",
       "      <th>2</th>\n",
       "      <td>0.2</td>\n",
       "      <td>0.05</td>\n",
       "      <td>2</td>\n",
       "      <td>0.023798</td>\n",
       "    </tr>\n",
       "    <tr>\n",
       "      <th>3</th>\n",
       "      <td>0.2</td>\n",
       "      <td>0.05</td>\n",
       "      <td>2</td>\n",
       "      <td>0.021095</td>\n",
       "    </tr>\n",
       "    <tr>\n",
       "      <th>4</th>\n",
       "      <td>0.2</td>\n",
       "      <td>0.05</td>\n",
       "      <td>2</td>\n",
       "      <td>0.013490</td>\n",
       "    </tr>\n",
       "    <tr>\n",
       "      <th>5</th>\n",
       "      <td>0.2</td>\n",
       "      <td>0.05</td>\n",
       "      <td>2</td>\n",
       "      <td>0.011460</td>\n",
       "    </tr>\n",
       "    <tr>\n",
       "      <th>6</th>\n",
       "      <td>0.2</td>\n",
       "      <td>0.05</td>\n",
       "      <td>2</td>\n",
       "      <td>0.018307</td>\n",
       "    </tr>\n",
       "    <tr>\n",
       "      <th>7</th>\n",
       "      <td>0.2</td>\n",
       "      <td>0.05</td>\n",
       "      <td>2</td>\n",
       "      <td>0.069176</td>\n",
       "    </tr>\n",
       "    <tr>\n",
       "      <th>8</th>\n",
       "      <td>0.2</td>\n",
       "      <td>0.05</td>\n",
       "      <td>2</td>\n",
       "      <td>0.100170</td>\n",
       "    </tr>\n",
       "    <tr>\n",
       "      <th>9</th>\n",
       "      <td>0.2</td>\n",
       "      <td>0.05</td>\n",
       "      <td>2</td>\n",
       "      <td>0.114510</td>\n",
       "    </tr>\n",
       "  </tbody>\n",
       "</table>\n",
       "</div>"
      ],
      "text/plain": [
       "                     nav-velocity-std-cm  nav-bearing-std  uuv-speed  \\\n",
       "[run number] [step]                                                    \n",
       "4            0                       0.2             0.05          2   \n",
       "             1                       0.2             0.05          2   \n",
       "             2                       0.2             0.05          2   \n",
       "             3                       0.2             0.05          2   \n",
       "             4                       0.2             0.05          2   \n",
       "             5                       0.2             0.05          2   \n",
       "             6                       0.2             0.05          2   \n",
       "             7                       0.2             0.05          2   \n",
       "             8                       0.2             0.05          2   \n",
       "             9                       0.2             0.05          2   \n",
       "\n",
       "                     navigation-error  \n",
       "[run number] [step]                    \n",
       "4            0               0.000000  \n",
       "             1               0.015695  \n",
       "             2               0.023798  \n",
       "             3               0.021095  \n",
       "             4               0.013490  \n",
       "             5               0.011460  \n",
       "             6               0.018307  \n",
       "             7               0.069176  \n",
       "             8               0.100170  \n",
       "             9               0.114510  "
      ]
     },
     "execution_count": 4,
     "metadata": {},
     "output_type": "execute_result"
    }
   ],
   "source": [
    "experiment_factors.head(10)"
   ]
  },
  {
   "cell_type": "code",
   "execution_count": 5,
   "metadata": {},
   "outputs": [
    {
     "data": {
      "image/png": "[encoded data removed]",
      "text/plain": [
       "<Figure size 432x288 with 1 Axes>"
      ]
     },
     "metadata": {},
     "output_type": "display_data"
    }
   ],
   "source": [
    "experiment_factors.loc[1,:].plot(y='navigation-error')\n",
    "plt.show()"
   ]
  },
  {
   "cell_type": "code",
   "execution_count": 6,
   "metadata": {},
   "outputs": [
    {
     "data": {
      "text/html": [
       "<div>\n",
       "<style scoped>\n",
       "    .dataframe tbody tr th:only-of-type {\n",
       "        vertical-align: middle;\n",
       "    }\n",
       "\n",
       "    .dataframe tbody tr th {\n",
       "        vertical-align: top;\n",
       "    }\n",
       "\n",
       "    .dataframe thead th {\n",
       "        text-align: right;\n",
       "    }\n",
       "</style>\n",
       "<table border=\"1\" class=\"dataframe\">\n",
       "  <thead>\n",
       "    <tr style=\"text-align: right;\">\n",
       "      <th></th>\n",
       "      <th>nav-velocity-std-cm</th>\n",
       "      <th>nav-bearing-std</th>\n",
       "      <th>uuv-speed</th>\n",
       "      <th>navigation-error</th>\n",
       "    </tr>\n",
       "  </thead>\n",
       "  <tbody>\n",
       "    <tr>\n",
       "      <th>count</th>\n",
       "      <td>5.023000e+03</td>\n",
       "      <td>5.023000e+03</td>\n",
       "      <td>5023.0</td>\n",
       "      <td>5023.000000</td>\n",
       "    </tr>\n",
       "    <tr>\n",
       "      <th>mean</th>\n",
       "      <td>2.000000e-01</td>\n",
       "      <td>5.000000e-02</td>\n",
       "      <td>2.0</td>\n",
       "      <td>67.957109</td>\n",
       "    </tr>\n",
       "    <tr>\n",
       "      <th>std</th>\n",
       "      <td>2.775834e-17</td>\n",
       "      <td>6.939585e-18</td>\n",
       "      <td>0.0</td>\n",
       "      <td>41.018105</td>\n",
       "    </tr>\n",
       "    <tr>\n",
       "      <th>min</th>\n",
       "      <td>2.000000e-01</td>\n",
       "      <td>5.000000e-02</td>\n",
       "      <td>2.0</td>\n",
       "      <td>0.000000</td>\n",
       "    </tr>\n",
       "    <tr>\n",
       "      <th>25%</th>\n",
       "      <td>2.000000e-01</td>\n",
       "      <td>5.000000e-02</td>\n",
       "      <td>2.0</td>\n",
       "      <td>47.023807</td>\n",
       "    </tr>\n",
       "    <tr>\n",
       "      <th>50%</th>\n",
       "      <td>2.000000e-01</td>\n",
       "      <td>5.000000e-02</td>\n",
       "      <td>2.0</td>\n",
       "      <td>68.057298</td>\n",
       "    </tr>\n",
       "    <tr>\n",
       "      <th>75%</th>\n",
       "      <td>2.000000e-01</td>\n",
       "      <td>5.000000e-02</td>\n",
       "      <td>2.0</td>\n",
       "      <td>87.961690</td>\n",
       "    </tr>\n",
       "    <tr>\n",
       "      <th>max</th>\n",
       "      <td>2.000000e-01</td>\n",
       "      <td>5.000000e-02</td>\n",
       "      <td>2.0</td>\n",
       "      <td>178.098005</td>\n",
       "    </tr>\n",
       "  </tbody>\n",
       "</table>\n",
       "</div>"
      ],
      "text/plain": [
       "       nav-velocity-std-cm  nav-bearing-std  uuv-speed  navigation-error\n",
       "count         5.023000e+03     5.023000e+03     5023.0       5023.000000\n",
       "mean          2.000000e-01     5.000000e-02        2.0         67.957109\n",
       "std           2.775834e-17     6.939585e-18        0.0         41.018105\n",
       "min           2.000000e-01     5.000000e-02        2.0          0.000000\n",
       "25%           2.000000e-01     5.000000e-02        2.0         47.023807\n",
       "50%           2.000000e-01     5.000000e-02        2.0         68.057298\n",
       "75%           2.000000e-01     5.000000e-02        2.0         87.961690\n",
       "max           2.000000e-01     5.000000e-02        2.0        178.098005"
      ]
     },
     "execution_count": 6,
     "metadata": {},
     "output_type": "execute_result"
    }
   ],
   "source": [
    "experiment_factors.loc[1,:].describe()"
   ]
  },
  {
   "cell_type": "code",
   "execution_count": 7,
   "metadata": {},
   "outputs": [
    {
     "data": {
      "text/plain": [
       "nav-velocity-std-cm  nav-bearing-std  uuv-speed\n",
       "0.2                  0.05             2             262.411687\n",
       "                                      3             279.249906\n",
       "                                      4             180.058874\n",
       "                     0.50             2            3185.640611\n",
       "                                      3            1839.653949\n",
       "                                      4            1557.350235\n",
       "                     1.00             2            4243.892102\n",
       "                                      3            2317.847634\n",
       "                                      4            2560.135433\n",
       "0.5                  0.05             2             525.352474\n",
       "                                      3             152.397169\n",
       "                                      4             139.268919\n",
       "                     0.50             2            1633.021391\n",
       "                                      3            1736.741300\n",
       "                                      4            2147.119901\n",
       "                     1.00             2            3456.806512\n",
       "                                      3            3543.317321\n",
       "                                      4            4100.859524\n",
       "1.0                  0.05             2             365.788026\n",
       "                                      3             226.904661\n",
       "                                      4             171.085336\n",
       "                     0.50             2            3200.388123\n",
       "                                      3            2462.069341\n",
       "                                      4            4009.043452\n",
       "                     1.00             2            2851.889501\n",
       "                                      3            3471.946029\n",
       "                                      4            3841.984711\n",
       "Name: navigation-error, dtype: float64"
      ]
     },
     "execution_count": 7,
     "metadata": {},
     "output_type": "execute_result"
    }
   ],
   "source": [
    "experiment_factors.groupby(['nav-velocity-std-cm','nav-bearing-std','uuv-speed'])['navigation-error'].max()"
   ]
  },
  {
   "cell_type": "code",
   "execution_count": null,
   "metadata": {},
   "outputs": [],
   "source": []
  }
 ],
 "metadata": {
  "kernelspec": {
   "display_name": "Python 3",
   "language": "python",
   "name": "python3"
  },
  "language_info": {
   "codemirror_mode": {
    "name": "ipython",
    "version": 3
   },
   "file_extension": ".py",
   "mimetype": "text/x-python",
   "name": "python",
   "nbconvert_exporter": "python",
   "pygments_lexer": "ipython3",
   "version": "3.6.6"
  }
 },
 "nbformat": 4,
 "nbformat_minor": 2
}
