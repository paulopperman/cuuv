{
 "cells": [
  {
   "cell_type": "code",
   "execution_count": 3,
   "metadata": {},
   "outputs": [
    {
     "name": "stderr",
     "output_type": "stream",
     "text": [
      "\n",
      "Attaching package: 'dplyr'\n",
      "\n",
      "The following objects are masked from 'package:stats':\n",
      "\n",
      "    filter, lag\n",
      "\n",
      "The following objects are masked from 'package:base':\n",
      "\n",
      "    intersect, setdiff, setequal, union\n",
      "\n"
     ]
    }
   ],
   "source": [
    "library('dplyr')"
   ]
  },
  {
   "cell_type": "code",
   "execution_count": 4,
   "metadata": {},
   "outputs": [],
   "source": [
    "# load baseline datafiles\n",
    "doe.baseline <- read.csv(\"./baseline_large_NOLH_description.csv\", header = TRUE)  # NOLH experiment design\n",
    "results.baseline <- read.csv(\"./baseline/baseline threat run large NOLH experiment-table.csv\", skip=6, header=TRUE)\n",
    "\n",
    "# format column names\n",
    "colnames(doe.baseline)[1] <- \"experiment.number\"\n",
    "\n",
    "# build the dataset\n",
    "data.baseline <- merge(doe.baseline, results.baseline, \"experiment.number\")\n",
    "\n",
    "# scale to real world size\n",
    "data.baseline$marker.mean <- data.baseline$marker.mean * 5\n",
    "data.baseline$marker.std.dev <- data.baseline$marker.std.dev * 5"
   ]
  },
  {
   "cell_type": "code",
   "execution_count": 5,
   "metadata": {},
   "outputs": [
    {
     "data": {
      "image/png": "[encoded data removed]",
      "text/plain": [
       "Plot with title \"MarkerStdev\""
      ]
     },
     "metadata": {},
     "output_type": "display_data"
    }
   ],
   "source": [
    "# split the run results into quintiles by measure of performance\n",
    "data.baseline %>% mutate(\n",
    "    mine.quintile = ntile(data.baseline$count.mine.contacts, 5),\n",
    "    step.quintile = ntile(data.baseline$X.step, 5),\n",
    "    nav.error.quintile = ntile(max.nav.error, 5),\n",
    "    marker.mean.quintile = ntile(marker.mean, 5),\n",
    "    marker.std.quintile = ntile(marker.std.dev, 5),\n",
    "    collisions.quintile = ntile(number.of.collisions, 5)\n",
    ") -> data.baseline.quintiles\n",
    "\n",
    "# plot the quintile distributions of the baseline\n",
    "layout(matrix(c(1,2,3,4,5,6),2,3))\n",
    "boxplot(count.mine.contacts~mine.quintile, data=data.baseline.quintiles, main='Mines')\n",
    "boxplot(X.step.~step.quintile, data=data.baseline.quintiles, main='Steps')\n",
    "boxplot(max.nav.error~nav.error.quintile, data=data.baseline.quintiles, main='NavErr')\n",
    "boxplot(marker.mean~marker.mean.quintile, data=data.baseline.quintiles, main='MarkerMean')\n",
    "boxplot(number.of.collisions~collisions.quintile, data=data.baseline.quintiles, main='Collisions')\n",
    "boxplot(marker.std.dev~marker.std.quintile, data=data.baseline.quintiles, main='MarkerStdev')"
   ]
  },
  {
   "cell_type": "code",
   "execution_count": 6,
   "metadata": {},
   "outputs": [
    {
     "data": {
      "text/plain": [
       "\n",
       "Call:\n",
       "lm(formula = baseline.marker.mean.formula, data = data.baseline)\n",
       "\n",
       "Residuals:\n",
       "    Min      1Q  Median      3Q     Max \n",
       "-218.00  -46.03   -8.15   27.06  746.21 \n",
       "\n",
       "Coefficients:\n",
       "                                          Estimate Std. Error t value Pr(>|t|)\n",
       "(Intercept)                               417.7551   244.6777   1.707  0.08800\n",
       "uuv.speed                                -191.4261   117.4139  -1.630  0.10327\n",
       "nav.bearing.std                         -1723.8078   849.5429  -2.029  0.04265\n",
       "side_hi_range                              -0.5995     0.3434  -1.746  0.08112\n",
       "current.heading                             0.1432     0.0234   6.118 1.26e-09\n",
       "uuv.speed:nav.bearing.std                1169.3290   407.8713   2.867  0.00421\n",
       "uuv.speed:side_hi_range                     0.2612     0.1663   1.571  0.11638\n",
       "nav.bearing.std:side_hi_range               3.5555     1.1979   2.968  0.00305\n",
       "uuv.speed:nav.bearing.std:side_hi_range    -1.8893     0.5806  -3.254  0.00117\n",
       "                                           \n",
       "(Intercept)                             .  \n",
       "uuv.speed                                  \n",
       "nav.bearing.std                         *  \n",
       "side_hi_range                           .  \n",
       "current.heading                         ***\n",
       "uuv.speed:nav.bearing.std               ** \n",
       "uuv.speed:side_hi_range                    \n",
       "nav.bearing.std:side_hi_range           ** \n",
       "uuv.speed:nav.bearing.std:side_hi_range ** \n",
       "---\n",
       "Signif. codes:  0 '***' 0.001 '**' 0.01 '*' 0.05 '.' 0.1 ' ' 1\n",
       "\n",
       "Residual standard error: 87.36 on 1281 degrees of freedom\n",
       "Multiple R-squared:  0.4341,\tAdjusted R-squared:  0.4305 \n",
       "F-statistic: 122.8 on 8 and 1281 DF,  p-value: < 2.2e-16\n"
      ]
     },
     "metadata": {},
     "output_type": "display_data"
    },
    {
     "data": {
      "text/plain": [
       "\n",
       "Call:\n",
       "lm(formula = marker.mean ~ ., data = data.baseline)\n",
       "\n",
       "Residuals:\n",
       "     Min       1Q   Median       3Q      Max \n",
       "-263.935  -21.973   -3.082   17.348  301.601 \n",
       "\n",
       "Coefficients:\n",
       "                                Estimate Std. Error t value Pr(>|t|)    \n",
       "(Intercept)                    2.269e+02  2.823e+01   8.037 2.09e-15 ***\n",
       "experiment.number             -2.881e-02  3.773e-02  -0.764 0.445239    \n",
       "source.level                  -5.843e-01  1.126e-01  -5.188 2.47e-07 ***\n",
       "classification.threshold.std   8.046e-01  5.161e-01   1.559 0.119213    \n",
       "classification.threshold.mean -4.714e-01  4.674e-01  -1.009 0.313369    \n",
       "sonar_ping_rate                4.653e-01  3.314e-01   1.404 0.160621    \n",
       "uuv.speed                     -1.239e+01  2.676e+00  -4.632 4.00e-06 ***\n",
       "turn.radius                    7.152e-01  4.639e-01   1.542 0.123432    \n",
       "side_angle                     2.248e-02  1.865e-01   0.121 0.904079    \n",
       "side_hi_range                 -3.242e-02  2.322e-02  -1.396 0.162891    \n",
       "forward_angle                 -1.476e-02  6.615e-02  -0.223 0.823466    \n",
       "forward_hi_range              -3.059e-02  1.165e-02  -2.625 0.008771 ** \n",
       "max.obs.dist                  -8.638e-01  4.640e-01  -1.861 0.062906 .  \n",
       "obs.influence                 -2.522e+00  2.311e+00  -1.091 0.275425    \n",
       "nav.bearing.std                1.298e+02  1.345e+01   9.653  < 2e-16 ***\n",
       "nav.velocity.std.cm           -7.648e+00  4.888e+00  -1.565 0.117925    \n",
       "current.heading                5.563e-02  1.312e-02   4.241 2.39e-05 ***\n",
       "drift.speed                   -1.154e+01  9.184e+00  -1.257 0.209095    \n",
       "X.run.number.                  1.283e-03  3.683e-03   0.348 0.727566    \n",
       "random.seed                    3.114e-05  4.626e-05   0.673 0.500889    \n",
       "X.step.                        6.154e-04  3.951e-04   1.557 0.119612    \n",
       "number.of.collisions          -1.517e+00  1.026e+00  -1.478 0.139738    \n",
       "max.nav.error                 -1.721e-02  4.926e-03  -3.494 0.000492 ***\n",
       "count.mine.contacts           -1.222e+00  1.242e-01  -9.840  < 2e-16 ***\n",
       "marker.std.dev                 1.249e+00  2.782e-02  44.903  < 2e-16 ***\n",
       "---\n",
       "Signif. codes:  0 '***' 0.001 '**' 0.01 '*' 0.05 '.' 0.1 ' ' 1\n",
       "\n",
       "Residual standard error: 48.21 on 1265 degrees of freedom\n",
       "Multiple R-squared:  0.8298,\tAdjusted R-squared:  0.8265 \n",
       "F-statistic: 256.9 on 24 and 1265 DF,  p-value: < 2.2e-16\n"
      ]
     },
     "metadata": {},
     "output_type": "display_data"
    }
   ],
   "source": [
    "baseline.marker.mean.formula <- marker.mean ~ uuv.speed*nav.bearing.std*side_hi_range+current.heading\n",
    "baseline.marker.mean.model <- lm(baseline.marker.mean.formula, data=data.baseline)\n",
    "summary(baseline.marker.mean.model)\n",
    "summary(lm(marker.mean ~ . , data=data.baseline))"
   ]
  },
  {
   "cell_type": "code",
   "execution_count": 7,
   "metadata": {},
   "outputs": [],
   "source": [
    "# load baseline datafiles\n",
    "doe.bubble <- read.csv(\"./bubble_field_NOLH_description.csv\", header = TRUE)  # NOLH experiment design\n",
    "results.bubble.cgrid <- read.csv(\"./bubble_field/baseline bubble field 5x5-table.csv\", skip=6, header=TRUE)\n",
    "results.bubble.ogrid <- read.csv(\"./bubble_field/baseline bubble field 5x5 open-table.csv\", skip=6, header=TRUE)\n",
    "results.bubble.horiz <- read.csv(\"./bubble_field/baseline bubble field 5 horizontal-table.csv\", skip=6, header=TRUE)\n",
    "results.bubble.vert <- read.csv(\"./bubble_field/baseline bubble field 5 vertical-table.csv\", skip=6, header=TRUE)\n",
    "\n",
    "results.bubble.cgrid$grid = as.factor(\"closed\")\n",
    "results.bubble.ogrid$grid = as.factor(\"open\")\n",
    "results.bubble.horiz$grid = as.factor(\"horizontal\")\n",
    "results.bubble.vert$grid = as.factor(\"vertical\")\n",
    "\n",
    "results.bubble <- rbind(results.bubble.cgrid, results.bubble.ogrid, results.bubble.horiz, results.bubble.vert)"
   ]
  },
  {
   "cell_type": "code",
   "execution_count": 8,
   "metadata": {},
   "outputs": [],
   "source": [
    "# format column names\n",
    "colnames(doe.bubble)[1] <- \"experiment.number\"\n",
    "\n",
    "# build the dataset\n",
    "data.bubble <- merge(doe.bubble, results.bubble, \"experiment.number\")\n",
    "\n",
    "# scale to real world size\n",
    "data.bubble$marker.mean <- data.bubble$marker.mean * 5\n",
    "data.bubble$marker.std.dev <- data.bubble$marker.std.dev * 5"
   ]
  },
  {
   "cell_type": "code",
   "execution_count": 13,
   "metadata": {},
   "outputs": [
    {
     "data": {
      "text/html": [
       "<table>\n",
       "<thead><tr><th scope=col>experiment.number</th><th scope=col>source.level</th><th scope=col>classification.threshold.std</th><th scope=col>classification.threshold.mean</th><th scope=col>sonar_ping_rate</th><th scope=col>uuv.speed</th><th scope=col>turn.radius</th><th scope=col>side_angle</th><th scope=col>side_hi_range</th><th scope=col>forward_angle</th><th scope=col>...</th><th scope=col>field.attenuation</th><th scope=col>X.run.number.</th><th scope=col>random.seed</th><th scope=col>X.step.</th><th scope=col>number.of.collisions</th><th scope=col>max.nav.error</th><th scope=col>count.mine.contacts</th><th scope=col>marker.mean</th><th scope=col>marker.std.dev</th><th scope=col>grid</th></tr></thead>\n",
       "<tbody>\n",
       "\t<tr><td>0        </td><td>62       </td><td>5        </td><td>4        </td><td>7        </td><td>1.7      </td><td>16.9     </td><td>34       </td><td>752      </td><td>99       </td><td>...      </td><td>86       </td><td> 130     </td><td>    3    </td><td>5991     </td><td>3        </td><td>1033.1779</td><td>78       </td><td>382.4824 </td><td>270.91343</td><td>open     </td></tr>\n",
       "\t<tr><td>0        </td><td>62       </td><td>5        </td><td>4        </td><td>7        </td><td>1.7      </td><td>16.9     </td><td>34       </td><td>752      </td><td>99       </td><td>...      </td><td>86       </td><td>   1     </td><td>    1    </td><td>5876     </td><td>0        </td><td> 703.5630</td><td>68       </td><td>201.8954 </td><td>109.29129</td><td>closed   </td></tr>\n",
       "\t<tr><td>0        </td><td>62       </td><td>5        </td><td>4        </td><td>7        </td><td>1.7      </td><td>16.9     </td><td>34       </td><td>752      </td><td>99       </td><td>...      </td><td>86       </td><td>1033     </td><td>   99    </td><td>5878     </td><td>0        </td><td> 323.4795</td><td>94       </td><td>125.8127 </td><td> 65.00934</td><td>vertical </td></tr>\n",
       "\t<tr><td>0        </td><td>62       </td><td>5        </td><td>4        </td><td>7        </td><td>1.7      </td><td>16.9     </td><td>34       </td><td>752      </td><td>99       </td><td>...      </td><td>86       </td><td> 775     </td><td>98341    </td><td>5970     </td><td>0        </td><td>1274.4573</td><td>59       </td><td>201.5987 </td><td> 33.71303</td><td>closed   </td></tr>\n",
       "\t<tr><td>0        </td><td>62       </td><td>5        </td><td>4        </td><td>7        </td><td>1.7      </td><td>16.9     </td><td>34       </td><td>752      </td><td>99       </td><td>...      </td><td>86       </td><td> 904     </td><td>   88    </td><td>5880     </td><td>0        </td><td>1106.5434</td><td>72       </td><td>173.6378 </td><td>237.95503</td><td>open     </td></tr>\n",
       "\t<tr><td>0        </td><td>62       </td><td>5        </td><td>4        </td><td>7        </td><td>1.7      </td><td>16.9     </td><td>34       </td><td>752      </td><td>99       </td><td>...      </td><td>86       </td><td> 130     </td><td>    3    </td><td>5982     </td><td>2        </td><td> 753.1951</td><td>57       </td><td>256.9975 </td><td> 72.27183</td><td>closed   </td></tr>\n",
       "</tbody>\n",
       "</table>\n"
      ],
      "text/latex": [
       "\\begin{tabular}{r|lllllllllllllllllllllllllll}\n",
       " experiment.number & source.level & classification.threshold.std & classification.threshold.mean & sonar\\_ping\\_rate & uuv.speed & turn.radius & side\\_angle & side\\_hi\\_range & forward\\_angle & ... & field.attenuation & X.run.number. & random.seed & X.step. & number.of.collisions & max.nav.error & count.mine.contacts & marker.mean & marker.std.dev & grid\\\\\n",
       "\\hline\n",
       "\t 0         & 62        & 5         & 4         & 7         & 1.7       & 16.9      & 34        & 752       & 99        & ...       & 86        &  130      &     3     & 5991      & 3         & 1033.1779 & 78        & 382.4824  & 270.91343 & open     \\\\\n",
       "\t 0         & 62        & 5         & 4         & 7         & 1.7       & 16.9      & 34        & 752       & 99        & ...       & 86        &    1      &     1     & 5876      & 0         &  703.5630 & 68        & 201.8954  & 109.29129 & closed   \\\\\n",
       "\t 0         & 62        & 5         & 4         & 7         & 1.7       & 16.9      & 34        & 752       & 99        & ...       & 86        & 1033      &    99     & 5878      & 0         &  323.4795 & 94        & 125.8127  &  65.00934 & vertical \\\\\n",
       "\t 0         & 62        & 5         & 4         & 7         & 1.7       & 16.9      & 34        & 752       & 99        & ...       & 86        &  775      & 98341     & 5970      & 0         & 1274.4573 & 59        & 201.5987  &  33.71303 & closed   \\\\\n",
       "\t 0         & 62        & 5         & 4         & 7         & 1.7       & 16.9      & 34        & 752       & 99        & ...       & 86        &  904      &    88     & 5880      & 0         & 1106.5434 & 72        & 173.6378  & 237.95503 & open     \\\\\n",
       "\t 0         & 62        & 5         & 4         & 7         & 1.7       & 16.9      & 34        & 752       & 99        & ...       & 86        &  130      &     3     & 5982      & 2         &  753.1951 & 57        & 256.9975  &  72.27183 & closed   \\\\\n",
       "\\end{tabular}\n"
      ],
      "text/markdown": [
       "\n",
       "experiment.number | source.level | classification.threshold.std | classification.threshold.mean | sonar_ping_rate | uuv.speed | turn.radius | side_angle | side_hi_range | forward_angle | ... | field.attenuation | X.run.number. | random.seed | X.step. | number.of.collisions | max.nav.error | count.mine.contacts | marker.mean | marker.std.dev | grid | \n",
       "|---|---|---|---|---|---|\n",
       "| 0         | 62        | 5         | 4         | 7         | 1.7       | 16.9      | 34        | 752       | 99        | ...       | 86        |  130      |     3     | 5991      | 3         | 1033.1779 | 78        | 382.4824  | 270.91343 | open      | \n",
       "| 0         | 62        | 5         | 4         | 7         | 1.7       | 16.9      | 34        | 752       | 99        | ...       | 86        |    1      |     1     | 5876      | 0         |  703.5630 | 68        | 201.8954  | 109.29129 | closed    | \n",
       "| 0         | 62        | 5         | 4         | 7         | 1.7       | 16.9      | 34        | 752       | 99        | ...       | 86        | 1033      |    99     | 5878      | 0         |  323.4795 | 94        | 125.8127  |  65.00934 | vertical  | \n",
       "| 0         | 62        | 5         | 4         | 7         | 1.7       | 16.9      | 34        | 752       | 99        | ...       | 86        |  775      | 98341     | 5970      | 0         | 1274.4573 | 59        | 201.5987  |  33.71303 | closed    | \n",
       "| 0         | 62        | 5         | 4         | 7         | 1.7       | 16.9      | 34        | 752       | 99        | ...       | 86        |  904      |    88     | 5880      | 0         | 1106.5434 | 72        | 173.6378  | 237.95503 | open      | \n",
       "| 0         | 62        | 5         | 4         | 7         | 1.7       | 16.9      | 34        | 752       | 99        | ...       | 86        |  130      |     3     | 5982      | 2         |  753.1951 | 57        | 256.9975  |  72.27183 | closed    | \n",
       "\n",
       "\n"
      ],
      "text/plain": [
       "  experiment.number source.level classification.threshold.std\n",
       "1 0                 62           5                           \n",
       "2 0                 62           5                           \n",
       "3 0                 62           5                           \n",
       "4 0                 62           5                           \n",
       "5 0                 62           5                           \n",
       "6 0                 62           5                           \n",
       "  classification.threshold.mean sonar_ping_rate uuv.speed turn.radius\n",
       "1 4                             7               1.7       16.9       \n",
       "2 4                             7               1.7       16.9       \n",
       "3 4                             7               1.7       16.9       \n",
       "4 4                             7               1.7       16.9       \n",
       "5 4                             7               1.7       16.9       \n",
       "6 4                             7               1.7       16.9       \n",
       "  side_angle side_hi_range forward_angle ... field.attenuation X.run.number.\n",
       "1 34         752           99            ... 86                 130         \n",
       "2 34         752           99            ... 86                   1         \n",
       "3 34         752           99            ... 86                1033         \n",
       "4 34         752           99            ... 86                 775         \n",
       "5 34         752           99            ... 86                 904         \n",
       "6 34         752           99            ... 86                 130         \n",
       "  random.seed X.step. number.of.collisions max.nav.error count.mine.contacts\n",
       "1     3       5991    3                    1033.1779     78                 \n",
       "2     1       5876    0                     703.5630     68                 \n",
       "3    99       5878    0                     323.4795     94                 \n",
       "4 98341       5970    0                    1274.4573     59                 \n",
       "5    88       5880    0                    1106.5434     72                 \n",
       "6     3       5982    2                     753.1951     57                 \n",
       "  marker.mean marker.std.dev grid    \n",
       "1 382.4824    270.91343      open    \n",
       "2 201.8954    109.29129      closed  \n",
       "3 125.8127     65.00934      vertical\n",
       "4 201.5987     33.71303      closed  \n",
       "5 173.6378    237.95503      open    \n",
       "6 256.9975     72.27183      closed  "
      ]
     },
     "metadata": {},
     "output_type": "display_data"
    }
   ],
   "source": [
    "head(data.bubble)"
   ]
  },
  {
   "cell_type": "code",
   "execution_count": 9,
   "metadata": {},
   "outputs": [
    {
     "data": {
      "text/plain": [
       "\n",
       "\tWelch Two Sample t-test\n",
       "\n",
       "data:  data.baseline$marker.mean and data.bubble[data.bubble$grid == \"closed\", ]$marker.mean\n",
       "t = -11.023, df = 2459.3, p-value < 2.2e-16\n",
       "alternative hypothesis: true difference in means is not equal to 0\n",
       "95 percent confidence interval:\n",
       " -66.99608 -46.75906\n",
       "sample estimates:\n",
       "mean of x mean of y \n",
       " 123.4202  180.2978 \n"
      ]
     },
     "metadata": {},
     "output_type": "display_data"
    },
    {
     "data": {
      "text/plain": [
       "\n",
       "\tWelch Two Sample t-test\n",
       "\n",
       "data:  data.baseline$marker.std.dev and data.bubble[data.bubble$grid == \"closed\", ]$marker.std.dev\n",
       "t = -3.1161, df = 2549.6, p-value = 0.001853\n",
       "alternative hypothesis: true difference in means is not equal to 0\n",
       "95 percent confidence interval:\n",
       " -15.537498  -3.535414\n",
       "sample estimates:\n",
       "mean of x mean of y \n",
       " 78.35796  87.89441 \n"
      ]
     },
     "metadata": {},
     "output_type": "display_data"
    },
    {
     "data": {
      "text/plain": [
       "\n",
       "\tWelch Two Sample t-test\n",
       "\n",
       "data:  data.baseline$max.nav.error and data.bubble[data.bubble$grid == \"closed\", ]$max.nav.error\n",
       "t = 0.47451, df = 2577.5, p-value = 0.6352\n",
       "alternative hypothesis: true difference in means is not equal to 0\n",
       "95 percent confidence interval:\n",
       " -29.55455  48.42467\n",
       "sample estimates:\n",
       "mean of x mean of y \n",
       " 604.4892  595.0541 \n"
      ]
     },
     "metadata": {},
     "output_type": "display_data"
    },
    {
     "data": {
      "text/plain": [
       "\n",
       "\tWelch Two Sample t-test\n",
       "\n",
       "data:  data.baseline$count.mine.contacts and data.bubble[data.bubble$grid == \"closed\", ]$count.mine.contacts\n",
       "t = 43.111, df = 2439.4, p-value < 2.2e-16\n",
       "alternative hypothesis: true difference in means is not equal to 0\n",
       "95 percent confidence interval:\n",
       " 25.56617 28.00282\n",
       "sample estimates:\n",
       "mean of x mean of y \n",
       " 94.87519  68.09070 \n"
      ]
     },
     "metadata": {},
     "output_type": "display_data"
    },
    {
     "data": {
      "text/plain": [
       "\n",
       "\tWelch Two Sample t-test\n",
       "\n",
       "data:  data.baseline$number.of.collisions and data.bubble[data.bubble$grid == \"closed\", ]$number.of.collisions\n",
       "t = -1.6161, df = 1977.5, p-value = 0.1062\n",
       "alternative hypothesis: true difference in means is not equal to 0\n",
       "95 percent confidence interval:\n",
       " -0.28312292  0.02730897\n",
       "sample estimates:\n",
       "mean of x mean of y \n",
       "0.4790698 0.6069767 \n"
      ]
     },
     "metadata": {},
     "output_type": "display_data"
    }
   ],
   "source": [
    "t.test(data.baseline$marker.mean, data.bubble[data.bubble$grid=='closed',]$marker.mean)\n",
    "t.test(data.baseline$marker.std.dev, data.bubble[data.bubble$grid=='closed',]$marker.std.dev)\n",
    "t.test(data.baseline$max.nav.error, data.bubble[data.bubble$grid=='closed',]$max.nav.error)\n",
    "t.test(data.baseline$count.mine.contacts, data.bubble[data.bubble$grid=='closed',]$count.mine.contacts)\n",
    "t.test(data.baseline$number.of.collisions, data.bubble[data.bubble$grid=='closed',]$number.of.collisions)"
   ]
  },
  {
   "cell_type": "code",
   "execution_count": 17,
   "metadata": {},
   "outputs": [
    {
     "data": {
      "text/plain": [
       "\n",
       "\tWelch Two Sample t-test\n",
       "\n",
       "data:  data.baseline$marker.mean and data.bubble[data.bubble$grid == \"horizontal\", ]$marker.mean\n",
       "t = -0.32652, df = 2575.2, p-value = 0.7441\n",
       "alternative hypothesis: true difference in means is not equal to 0\n",
       "95 percent confidence interval:\n",
       " -10.259752   7.330687\n",
       "sample estimates:\n",
       "mean of x mean of y \n",
       " 123.4202  124.8848 \n"
      ]
     },
     "metadata": {},
     "output_type": "display_data"
    },
    {
     "data": {
      "text/plain": [
       "\n",
       "\tWelch Two Sample t-test\n",
       "\n",
       "data:  data.baseline$marker.std.dev and data.bubble[data.bubble$grid == \"horizontal\", ]$marker.std.dev\n",
       "t = -0.39597, df = 2572, p-value = 0.6922\n",
       "alternative hypothesis: true difference in means is not equal to 0\n",
       "95 percent confidence interval:\n",
       " -6.992908  4.643198\n",
       "sample estimates:\n",
       "mean of x mean of y \n",
       " 78.35796  79.53281 \n"
      ]
     },
     "metadata": {},
     "output_type": "display_data"
    },
    {
     "data": {
      "text/plain": [
       "\n",
       "\tWelch Two Sample t-test\n",
       "\n",
       "data:  data.baseline$max.nav.error and data.bubble[data.bubble$grid == \"horizontal\", ]$max.nav.error\n",
       "t = 0.96924, df = 2568.8, p-value = 0.3325\n",
       "alternative hypothesis: true difference in means is not equal to 0\n",
       "95 percent confidence interval:\n",
       " -19.28675  56.98869\n",
       "sample estimates:\n",
       "mean of x mean of y \n",
       " 604.4892  585.6382 \n"
      ]
     },
     "metadata": {},
     "output_type": "display_data"
    },
    {
     "data": {
      "text/plain": [
       "\n",
       "\tWelch Two Sample t-test\n",
       "\n",
       "data:  data.baseline$count.mine.contacts and data.bubble[data.bubble$grid == \"horizontal\", ]$count.mine.contacts\n",
       "t = 0.83537, df = 2576.3, p-value = 0.4036\n",
       "alternative hypothesis: true difference in means is not equal to 0\n",
       "95 percent confidence interval:\n",
       " -0.6183046  1.5361341\n",
       "sample estimates:\n",
       "mean of x mean of y \n",
       " 94.87519  94.41628 \n"
      ]
     },
     "metadata": {},
     "output_type": "display_data"
    },
    {
     "data": {
      "text/plain": [
       "\n",
       "\tWelch Two Sample t-test\n",
       "\n",
       "data:  data.baseline$number.of.collisions and data.bubble[data.bubble$grid == \"horizontal\", ]$number.of.collisions\n",
       "t = -1.4046, df = 1540.2, p-value = 0.1603\n",
       "alternative hypothesis: true difference in means is not equal to 0\n",
       "95 percent confidence interval:\n",
       " -0.42170400  0.06976602\n",
       "sample estimates:\n",
       "mean of x mean of y \n",
       "0.4790698 0.6550388 \n"
      ]
     },
     "metadata": {},
     "output_type": "display_data"
    }
   ],
   "source": [
    "t.test(data.baseline$marker.mean, data.bubble[data.bubble$grid=='horizontal',]$marker.mean)\n",
    "t.test(data.baseline$marker.std.dev, data.bubble[data.bubble$grid=='horizontal',]$marker.std.dev)\n",
    "t.test(data.baseline$max.nav.error, data.bubble[data.bubble$grid=='horizontal',]$max.nav.error)\n",
    "t.test(data.baseline$count.mine.contacts, data.bubble[data.bubble$grid=='horizontal',]$count.mine.contacts)\n",
    "t.test(data.baseline$number.of.collisions, data.bubble[data.bubble$grid=='horizontal',]$number.of.collisions)"
   ]
  },
  {
   "cell_type": "code",
   "execution_count": 33,
   "metadata": {},
   "outputs": [
    {
     "data": {
      "text/plain": [
       "\n",
       "\tWelch Two Sample t-test\n",
       "\n",
       "data:  data.bubble[data.bubble$grid == \"open\", ]$count.mine.contacts and data.bubble[data.bubble$grid == \"vertical\", ]$count.mine.contacts\n",
       "t = -0.07115, df = 2573.2, p-value = 0.9433\n",
       "alternative hypothesis: true difference in means is not equal to 0\n",
       "95 percent confidence interval:\n",
       " -1.416934  1.317710\n",
       "sample estimates:\n",
       "mean of x mean of y \n",
       " 82.63333  82.68295 \n"
      ]
     },
     "metadata": {},
     "output_type": "display_data"
    },
    {
     "data": {
      "text/plain": [
       "\n",
       "\tWelch Two Sample t-test\n",
       "\n",
       "data:  data.bubble[data.bubble$grid == \"open\", ]$marker.mean and data.bubble[data.bubble$grid == \"vertical\", ]$marker.mean\n",
       "t = -4.3906, df = 2547.9, p-value = 1.176e-05\n",
       "alternative hypothesis: true difference in means is not equal to 0\n",
       "95 percent confidence interval:\n",
       " -33.38115 -12.76978\n",
       "sample estimates:\n",
       "mean of x mean of y \n",
       " 158.8483  181.9237 \n"
      ]
     },
     "metadata": {},
     "output_type": "display_data"
    }
   ],
   "source": [
    "t.test(data.bubble[data.bubble$grid=='open',]$count.mine.contacts,data.bubble[data.bubble$grid=='vertical',]$count.mine.contacts)\n",
    "t.test(data.bubble[data.bubble$grid=='open',]$marker.mean,data.bubble[data.bubble$grid=='vertical',]$marker.mean)"
   ]
  },
  {
   "cell_type": "code",
   "execution_count": 18,
   "metadata": {},
   "outputs": [
    {
     "data": {
      "image/png": "[encoded data removed]",
      "text/plain": [
       "plot without title"
      ]
     },
     "metadata": {},
     "output_type": "display_data"
    }
   ],
   "source": [
    "boxplot(count.mine.contacts~grid, data=data.bubble, ylab='Mines Detected')"
   ]
  },
  {
   "cell_type": "code",
   "execution_count": 19,
   "metadata": {},
   "outputs": [
    {
     "data": {
      "image/png": "[encoded data removed]",
      "text/plain": [
       "plot without title"
      ]
     },
     "metadata": {},
     "output_type": "display_data"
    }
   ],
   "source": [
    "boxplot(number.of.collisions~grid, data=data.bubble, ylab='Mines Detected')"
   ]
  },
  {
   "cell_type": "code",
   "execution_count": 16,
   "metadata": {},
   "outputs": [
    {
     "data": {
      "image/png": "[encoded data removed]",
      "text/plain": [
       "plot without title"
      ]
     },
     "metadata": {},
     "output_type": "display_data"
    }
   ],
   "source": [
    "boxplot(data.baseline$count.mine.contacts, data.bubble[data.bubble$grid=='closed',]$count.mine.contacts,\n",
    "       ylab='mines detected', labels=c('baseline','grid'))"
   ]
  },
  {
   "cell_type": "code",
   "execution_count": 21,
   "metadata": {},
   "outputs": [
    {
     "data": {
      "image/png": "[encoded data removed]",
      "text/plain": [
       "plot without title"
      ]
     },
     "metadata": {},
     "output_type": "display_data"
    }
   ],
   "source": [
    "boxplot(data.baseline$number.of.collisions, data.bubble[data.bubble$grid=='closed',]$number.of.collisions,\n",
    "       ylab='number of collisions', labels=c('baseline','grid'))"
   ]
  },
  {
   "cell_type": "code",
   "execution_count": 29,
   "metadata": {},
   "outputs": [
    {
     "data": {
      "image/png": "[encoded data removed]",
      "text/plain": [
       "Plot with title \"Baseline CorrPlot\""
      ]
     },
     "metadata": {},
     "output_type": "display_data"
    }
   ],
   "source": [
    "library(Hmisc)\n",
    "library(corrplot)\n",
    "\n",
    "cor.bubble <- rcorr(as.matrix(data.bubble[data.bubble$grid=='closed',c(2:26)]))\n",
    "\n",
    "corrplot(cor.bubble$r, main=\"Baseline CorrPlot\", type=\"lower\", tl.cex=0.5)"
   ]
  },
  {
   "cell_type": "code",
   "execution_count": 23,
   "metadata": {},
   "outputs": [
    {
     "data": {
      "text/html": [
       "<ol class=list-inline>\n",
       "\t<li>'experiment.number'</li>\n",
       "\t<li>'source.level'</li>\n",
       "\t<li>'classification.threshold.std'</li>\n",
       "\t<li>'classification.threshold.mean'</li>\n",
       "\t<li>'sonar_ping_rate'</li>\n",
       "\t<li>'uuv.speed'</li>\n",
       "\t<li>'turn.radius'</li>\n",
       "\t<li>'side_angle'</li>\n",
       "\t<li>'side_hi_range'</li>\n",
       "\t<li>'forward_angle'</li>\n",
       "\t<li>'forward_hi_range'</li>\n",
       "\t<li>'max.obs.dist'</li>\n",
       "\t<li>'obs.influence'</li>\n",
       "\t<li>'nav.bearing.std'</li>\n",
       "\t<li>'nav.velocity.std.cm'</li>\n",
       "\t<li>'current.heading'</li>\n",
       "\t<li>'drift.speed'</li>\n",
       "\t<li>'field.attenuation'</li>\n",
       "\t<li>'X.run.number.'</li>\n",
       "\t<li>'random.seed'</li>\n",
       "\t<li>'X.step.'</li>\n",
       "\t<li>'number.of.collisions'</li>\n",
       "\t<li>'max.nav.error'</li>\n",
       "\t<li>'count.mine.contacts'</li>\n",
       "\t<li>'marker.mean'</li>\n",
       "\t<li>'marker.std.dev'</li>\n",
       "\t<li>'grid'</li>\n",
       "</ol>\n"
      ],
      "text/latex": [
       "\\begin{enumerate*}\n",
       "\\item 'experiment.number'\n",
       "\\item 'source.level'\n",
       "\\item 'classification.threshold.std'\n",
       "\\item 'classification.threshold.mean'\n",
       "\\item 'sonar\\_ping\\_rate'\n",
       "\\item 'uuv.speed'\n",
       "\\item 'turn.radius'\n",
       "\\item 'side\\_angle'\n",
       "\\item 'side\\_hi\\_range'\n",
       "\\item 'forward\\_angle'\n",
       "\\item 'forward\\_hi\\_range'\n",
       "\\item 'max.obs.dist'\n",
       "\\item 'obs.influence'\n",
       "\\item 'nav.bearing.std'\n",
       "\\item 'nav.velocity.std.cm'\n",
       "\\item 'current.heading'\n",
       "\\item 'drift.speed'\n",
       "\\item 'field.attenuation'\n",
       "\\item 'X.run.number.'\n",
       "\\item 'random.seed'\n",
       "\\item 'X.step.'\n",
       "\\item 'number.of.collisions'\n",
       "\\item 'max.nav.error'\n",
       "\\item 'count.mine.contacts'\n",
       "\\item 'marker.mean'\n",
       "\\item 'marker.std.dev'\n",
       "\\item 'grid'\n",
       "\\end{enumerate*}\n"
      ],
      "text/markdown": [
       "1. 'experiment.number'\n",
       "2. 'source.level'\n",
       "3. 'classification.threshold.std'\n",
       "4. 'classification.threshold.mean'\n",
       "5. 'sonar_ping_rate'\n",
       "6. 'uuv.speed'\n",
       "7. 'turn.radius'\n",
       "8. 'side_angle'\n",
       "9. 'side_hi_range'\n",
       "10. 'forward_angle'\n",
       "11. 'forward_hi_range'\n",
       "12. 'max.obs.dist'\n",
       "13. 'obs.influence'\n",
       "14. 'nav.bearing.std'\n",
       "15. 'nav.velocity.std.cm'\n",
       "16. 'current.heading'\n",
       "17. 'drift.speed'\n",
       "18. 'field.attenuation'\n",
       "19. 'X.run.number.'\n",
       "20. 'random.seed'\n",
       "21. 'X.step.'\n",
       "22. 'number.of.collisions'\n",
       "23. 'max.nav.error'\n",
       "24. 'count.mine.contacts'\n",
       "25. 'marker.mean'\n",
       "26. 'marker.std.dev'\n",
       "27. 'grid'\n",
       "\n",
       "\n"
      ],
      "text/plain": [
       " [1] \"experiment.number\"             \"source.level\"                 \n",
       " [3] \"classification.threshold.std\"  \"classification.threshold.mean\"\n",
       " [5] \"sonar_ping_rate\"               \"uuv.speed\"                    \n",
       " [7] \"turn.radius\"                   \"side_angle\"                   \n",
       " [9] \"side_hi_range\"                 \"forward_angle\"                \n",
       "[11] \"forward_hi_range\"              \"max.obs.dist\"                 \n",
       "[13] \"obs.influence\"                 \"nav.bearing.std\"              \n",
       "[15] \"nav.velocity.std.cm\"           \"current.heading\"              \n",
       "[17] \"drift.speed\"                   \"field.attenuation\"            \n",
       "[19] \"X.run.number.\"                 \"random.seed\"                  \n",
       "[21] \"X.step.\"                       \"number.of.collisions\"         \n",
       "[23] \"max.nav.error\"                 \"count.mine.contacts\"          \n",
       "[25] \"marker.mean\"                   \"marker.std.dev\"               \n",
       "[27] \"grid\"                         "
      ]
     },
     "metadata": {},
     "output_type": "display_data"
    }
   ],
   "source": [
    "colnames(data.bubble)"
   ]
  },
  {
   "cell_type": "code",
   "execution_count": 45,
   "metadata": {},
   "outputs": [
    {
     "data": {
      "image/png": "[encoded data removed]",
      "text/plain": [
       "plot without title"
      ]
     },
     "metadata": {},
     "output_type": "display_data"
    }
   ],
   "source": [
    "interaction.plot(cut(data.bubble$field.attenuation, breaks=c(10,50,100)), cut(data.bubble$source.level, breaks=c(55,65,75,85,100)), 100-data.bubble$count.mine.contacts)"
   ]
  },
  {
   "cell_type": "code",
   "execution_count": null,
   "metadata": {},
   "outputs": [],
   "source": []
  }
 ],
 "metadata": {
  "kernelspec": {
   "display_name": "R",
   "language": "R",
   "name": "ir"
  },
  "language_info": {
   "codemirror_mode": "r",
   "file_extension": ".r",
   "mimetype": "text/x-r-source",
   "name": "R",
   "pygments_lexer": "r",
   "version": "3.5.1"
  }
 },
 "nbformat": 4,
 "nbformat_minor": 2
}
