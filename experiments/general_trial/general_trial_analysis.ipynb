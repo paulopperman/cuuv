{
 "cells": [
  {
   "cell_type": "code",
   "execution_count": 6,
   "metadata": {},
   "outputs": [],
   "source": [
    "library(dplyr)\n",
    "library(ggplot2)"
   ]
  },
  {
   "cell_type": "code",
   "execution_count": 2,
   "metadata": {},
   "outputs": [],
   "source": [
    "# load the experiment design\n",
    "doe <- read.csv(\"general_trial_run_1_description.csv\", header = TRUE)\n",
    "# load the results\n",
    "results <- read.csv(\"straight-run-trial general experiment template-table.csv\", skip=6, header = TRUE)\n",
    "\n",
    "# rename the index of the experiment design data to simplify merging\n",
    "colnames(doe)[1] <- \"experiment.number\""
   ]
  },
  {
   "cell_type": "code",
   "execution_count": 5,
   "metadata": {},
   "outputs": [
    {
     "data": {
      "text/html": [
       "<table>\n",
       "<thead><tr><th scope=col>experiment.number</th><th scope=col>speed_mean</th><th scope=col>speed_max</th><th scope=col>speed_min</th><th scope=col>speed_median</th><th scope=col>turn.radius</th><th scope=col>uuv.speed</th><th scope=col>nav.bearing.std</th><th scope=col>nav.velocity.std.cm</th><th scope=col>max.obs.dist</th><th scope=col>...</th><th scope=col>side_angle</th><th scope=col>side_low_range</th><th scope=col>side_hi_range</th><th scope=col>side_p_detect</th><th scope=col>forward_angle</th><th scope=col>forward_low_range</th><th scope=col>forward_hi_range</th><th scope=col>forward_p_detect</th><th scope=col>current.heading</th><th scope=col>drift.speed</th></tr></thead>\n",
       "<tbody>\n",
       "\t<tr><td>0        </td><td>-9.2964  </td><td>-3.021   </td><td>-16.725  </td><td>-9.1825  </td><td> 5.375398</td><td>2.170104 </td><td>0.7359034</td><td>2.0170293</td><td>5.160420 </td><td>...      </td><td> 81.11468</td><td>20.243068</td><td>985.8806 </td><td>0.6906851</td><td>82.18991 </td><td>17.240438</td><td>572.99362</td><td>0.8660535</td><td>275.68133</td><td>0.2090705</td></tr>\n",
       "\t<tr><td>1        </td><td>-9.2048  </td><td>-3.563   </td><td>-14.650  </td><td>-9.6965  </td><td>11.845933</td><td>2.757327 </td><td>3.9342750</td><td>5.4139923</td><td>7.535228 </td><td>...      </td><td>106.13295</td><td> 4.400791</td><td>894.4290 </td><td>0.8141711</td><td>30.29700 </td><td> 4.467615</td><td>469.90390</td><td>0.8831937</td><td>184.62724</td><td>0.4927339</td></tr>\n",
       "\t<tr><td>2        </td><td>-9.0013  </td><td>-3.019   </td><td>-14.850  </td><td>-8.7970  </td><td>18.327015</td><td>3.766723 </td><td>1.7389540</td><td>9.3162891</td><td>2.787151 </td><td>...      </td><td> 50.15681</td><td>38.828614</td><td>297.4658 </td><td>0.7999556</td><td>88.29910 </td><td>15.208680</td><td>442.73890</td><td>0.9371328</td><td>220.62767</td><td>0.5452489</td></tr>\n",
       "\t<tr><td>3        </td><td>-6.5789  </td><td>-3.016   </td><td>-13.950  </td><td>-4.4765  </td><td> 7.439189</td><td>3.725374 </td><td>1.2782085</td><td>0.1638696</td><td>2.374758 </td><td>...      </td><td>119.59798</td><td>33.578248</td><td>216.1840 </td><td>0.7887305</td><td>28.70319 </td><td>10.044737</td><td>325.09882</td><td>0.5080395</td><td> 85.92679</td><td>0.5359218</td></tr>\n",
       "\t<tr><td>4        </td><td>-7.8522  </td><td>-3.433   </td><td>-14.975  </td><td>-4.5710  </td><td>14.318106</td><td>2.751821 </td><td>3.7988810</td><td>1.3653394</td><td>7.163403 </td><td>...      </td><td> 44.45242</td><td>27.706439</td><td>756.6231 </td><td>0.9213292</td><td>85.44025 </td><td> 2.739265</td><td> 98.02579</td><td>0.6225485</td><td> 58.12139</td><td>1.9273755</td></tr>\n",
       "\t<tr><td>5        </td><td>-7.7919  </td><td>-3.493   </td><td>-14.900  </td><td>-5.0830  </td><td> 5.009271</td><td>2.557183 </td><td>3.2117680</td><td>5.8800192</td><td>3.122157 </td><td>...      </td><td> 50.34849</td><td> 6.090979</td><td>550.5918 </td><td>0.7048383</td><td>88.94552 </td><td> 1.160187</td><td>765.50887</td><td>0.6103728</td><td> 87.89216</td><td>1.1150387</td></tr>\n",
       "</tbody>\n",
       "</table>\n"
      ],
      "text/latex": [
       "\\begin{tabular}{r|llllllllllllllllllllll}\n",
       " experiment.number & speed\\_mean & speed\\_max & speed\\_min & speed\\_median & turn.radius & uuv.speed & nav.bearing.std & nav.velocity.std.cm & max.obs.dist & ... & side\\_angle & side\\_low\\_range & side\\_hi\\_range & side\\_p\\_detect & forward\\_angle & forward\\_low\\_range & forward\\_hi\\_range & forward\\_p\\_detect & current.heading & drift.speed\\\\\n",
       "\\hline\n",
       "\t 0         & -9.2964   & -3.021    & -16.725   & -9.1825   &  5.375398 & 2.170104  & 0.7359034 & 2.0170293 & 5.160420  & ...       &  81.11468 & 20.243068 & 985.8806  & 0.6906851 & 82.18991  & 17.240438 & 572.99362 & 0.8660535 & 275.68133 & 0.2090705\\\\\n",
       "\t 1         & -9.2048   & -3.563    & -14.650   & -9.6965   & 11.845933 & 2.757327  & 3.9342750 & 5.4139923 & 7.535228  & ...       & 106.13295 &  4.400791 & 894.4290  & 0.8141711 & 30.29700  &  4.467615 & 469.90390 & 0.8831937 & 184.62724 & 0.4927339\\\\\n",
       "\t 2         & -9.0013   & -3.019    & -14.850   & -8.7970   & 18.327015 & 3.766723  & 1.7389540 & 9.3162891 & 2.787151  & ...       &  50.15681 & 38.828614 & 297.4658  & 0.7999556 & 88.29910  & 15.208680 & 442.73890 & 0.9371328 & 220.62767 & 0.5452489\\\\\n",
       "\t 3         & -6.5789   & -3.016    & -13.950   & -4.4765   &  7.439189 & 3.725374  & 1.2782085 & 0.1638696 & 2.374758  & ...       & 119.59798 & 33.578248 & 216.1840  & 0.7887305 & 28.70319  & 10.044737 & 325.09882 & 0.5080395 &  85.92679 & 0.5359218\\\\\n",
       "\t 4         & -7.8522   & -3.433    & -14.975   & -4.5710   & 14.318106 & 2.751821  & 3.7988810 & 1.3653394 & 7.163403  & ...       &  44.45242 & 27.706439 & 756.6231  & 0.9213292 & 85.44025  &  2.739265 &  98.02579 & 0.6225485 &  58.12139 & 1.9273755\\\\\n",
       "\t 5         & -7.7919   & -3.493    & -14.900   & -5.0830   &  5.009271 & 2.557183  & 3.2117680 & 5.8800192 & 3.122157  & ...       &  50.34849 &  6.090979 & 550.5918  & 0.7048383 & 88.94552  &  1.160187 & 765.50887 & 0.6103728 &  87.89216 & 1.1150387\\\\\n",
       "\\end{tabular}\n"
      ],
      "text/markdown": [
       "\n",
       "experiment.number | speed_mean | speed_max | speed_min | speed_median | turn.radius | uuv.speed | nav.bearing.std | nav.velocity.std.cm | max.obs.dist | ... | side_angle | side_low_range | side_hi_range | side_p_detect | forward_angle | forward_low_range | forward_hi_range | forward_p_detect | current.heading | drift.speed | \n",
       "|---|---|---|---|---|---|\n",
       "| 0         | -9.2964   | -3.021    | -16.725   | -9.1825   |  5.375398 | 2.170104  | 0.7359034 | 2.0170293 | 5.160420  | ...       |  81.11468 | 20.243068 | 985.8806  | 0.6906851 | 82.18991  | 17.240438 | 572.99362 | 0.8660535 | 275.68133 | 0.2090705 | \n",
       "| 1         | -9.2048   | -3.563    | -14.650   | -9.6965   | 11.845933 | 2.757327  | 3.9342750 | 5.4139923 | 7.535228  | ...       | 106.13295 |  4.400791 | 894.4290  | 0.8141711 | 30.29700  |  4.467615 | 469.90390 | 0.8831937 | 184.62724 | 0.4927339 | \n",
       "| 2         | -9.0013   | -3.019    | -14.850   | -8.7970   | 18.327015 | 3.766723  | 1.7389540 | 9.3162891 | 2.787151  | ...       |  50.15681 | 38.828614 | 297.4658  | 0.7999556 | 88.29910  | 15.208680 | 442.73890 | 0.9371328 | 220.62767 | 0.5452489 | \n",
       "| 3         | -6.5789   | -3.016    | -13.950   | -4.4765   |  7.439189 | 3.725374  | 1.2782085 | 0.1638696 | 2.374758  | ...       | 119.59798 | 33.578248 | 216.1840  | 0.7887305 | 28.70319  | 10.044737 | 325.09882 | 0.5080395 |  85.92679 | 0.5359218 | \n",
       "| 4         | -7.8522   | -3.433    | -14.975   | -4.5710   | 14.318106 | 2.751821  | 3.7988810 | 1.3653394 | 7.163403  | ...       |  44.45242 | 27.706439 | 756.6231  | 0.9213292 | 85.44025  |  2.739265 |  98.02579 | 0.6225485 |  58.12139 | 1.9273755 | \n",
       "| 5         | -7.7919   | -3.493    | -14.900   | -5.0830   |  5.009271 | 2.557183  | 3.2117680 | 5.8800192 | 3.122157  | ...       |  50.34849 |  6.090979 | 550.5918  | 0.7048383 | 88.94552  |  1.160187 | 765.50887 | 0.6103728 |  87.89216 | 1.1150387 | \n",
       "\n",
       "\n"
      ],
      "text/plain": [
       "  experiment.number speed_mean speed_max speed_min speed_median turn.radius\n",
       "1 0                 -9.2964    -3.021    -16.725   -9.1825       5.375398  \n",
       "2 1                 -9.2048    -3.563    -14.650   -9.6965      11.845933  \n",
       "3 2                 -9.0013    -3.019    -14.850   -8.7970      18.327015  \n",
       "4 3                 -6.5789    -3.016    -13.950   -4.4765       7.439189  \n",
       "5 4                 -7.8522    -3.433    -14.975   -4.5710      14.318106  \n",
       "6 5                 -7.7919    -3.493    -14.900   -5.0830       5.009271  \n",
       "  uuv.speed nav.bearing.std nav.velocity.std.cm max.obs.dist ... side_angle\n",
       "1 2.170104  0.7359034       2.0170293           5.160420     ...  81.11468 \n",
       "2 2.757327  3.9342750       5.4139923           7.535228     ... 106.13295 \n",
       "3 3.766723  1.7389540       9.3162891           2.787151     ...  50.15681 \n",
       "4 3.725374  1.2782085       0.1638696           2.374758     ... 119.59798 \n",
       "5 2.751821  3.7988810       1.3653394           7.163403     ...  44.45242 \n",
       "6 2.557183  3.2117680       5.8800192           3.122157     ...  50.34849 \n",
       "  side_low_range side_hi_range side_p_detect forward_angle forward_low_range\n",
       "1 20.243068      985.8806      0.6906851     82.18991      17.240438        \n",
       "2  4.400791      894.4290      0.8141711     30.29700       4.467615        \n",
       "3 38.828614      297.4658      0.7999556     88.29910      15.208680        \n",
       "4 33.578248      216.1840      0.7887305     28.70319      10.044737        \n",
       "5 27.706439      756.6231      0.9213292     85.44025       2.739265        \n",
       "6  6.090979      550.5918      0.7048383     88.94552       1.160187        \n",
       "  forward_hi_range forward_p_detect current.heading drift.speed\n",
       "1 572.99362        0.8660535        275.68133       0.2090705  \n",
       "2 469.90390        0.8831937        184.62724       0.4927339  \n",
       "3 442.73890        0.9371328        220.62767       0.5452489  \n",
       "4 325.09882        0.5080395         85.92679       0.5359218  \n",
       "5  98.02579        0.6225485         58.12139       1.9273755  \n",
       "6 765.50887        0.6103728         87.89216       1.1150387  "
      ]
     },
     "metadata": {},
     "output_type": "display_data"
    }
   ],
   "source": [
    "# reduce results from multiple runs as summary statistics\n",
    "results %>% \n",
    "    group_by(experiment.number) %>% \n",
    "    summarise(speed_mean=mean(objective.mine.speed),\n",
    "             speed_max=max(objective.mine.speed),\n",
    "             speed_min=min(objective.mine.speed),\n",
    "             speed_median=median(objective.mine.speed)) %>%\n",
    "    merge(doe, by=\"experiment.number\") -> processed_data\n",
    "\n",
    "head(processed_data)"
   ]
  },
  {
   "cell_type": "code",
   "execution_count": null,
   "metadata": {},
   "outputs": [],
   "source": []
  }
 ],
 "metadata": {
  "kernelspec": {
   "display_name": "R",
   "language": "R",
   "name": "ir"
  },
  "language_info": {
   "codemirror_mode": "r",
   "file_extension": ".r",
   "mimetype": "text/x-r-source",
   "name": "R",
   "pygments_lexer": "r",
   "version": "3.5.1"
  }
 },
 "nbformat": 4,
 "nbformat_minor": 2
}
